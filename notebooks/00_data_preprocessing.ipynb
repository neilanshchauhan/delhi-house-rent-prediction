{
 "cells": [
  {
   "cell_type": "code",
   "execution_count": 2,
   "id": "57e8d292",
   "metadata": {},
   "outputs": [],
   "source": [
    "import numpy as np\n",
    "import pandas as pd\n",
    "import matplotlib.pyplot as plt\n",
    "import seaborn as sns\n",
    "import warnings"
   ]
  },
  {
   "cell_type": "code",
   "execution_count": 3,
   "id": "47b5e378",
   "metadata": {},
   "outputs": [
    {
     "data": {
      "text/html": [
       "<div>\n",
       "<style scoped>\n",
       "    .dataframe tbody tr th:only-of-type {\n",
       "        vertical-align: middle;\n",
       "    }\n",
       "\n",
       "    .dataframe tbody tr th {\n",
       "        vertical-align: top;\n",
       "    }\n",
       "\n",
       "    .dataframe thead th {\n",
       "        text-align: right;\n",
       "    }\n",
       "</style>\n",
       "<table border=\"1\" class=\"dataframe\">\n",
       "  <thead>\n",
       "    <tr style=\"text-align: right;\">\n",
       "      <th></th>\n",
       "      <th>Unnamed: 0</th>\n",
       "      <th>size_sq_ft</th>\n",
       "      <th>propertyType</th>\n",
       "      <th>bedrooms</th>\n",
       "      <th>latitude</th>\n",
       "      <th>longitude</th>\n",
       "      <th>localityName</th>\n",
       "      <th>suburbName</th>\n",
       "      <th>cityName</th>\n",
       "      <th>price</th>\n",
       "      <th>companyName</th>\n",
       "      <th>closest_mtero_station_km</th>\n",
       "      <th>AP_dist_km</th>\n",
       "      <th>Aiims_dist_km</th>\n",
       "      <th>NDRLW_dist_km</th>\n",
       "    </tr>\n",
       "  </thead>\n",
       "  <tbody>\n",
       "    <tr>\n",
       "      <th>0</th>\n",
       "      <td>0</td>\n",
       "      <td>400</td>\n",
       "      <td>Independent Floor</td>\n",
       "      <td>1</td>\n",
       "      <td>28.641010</td>\n",
       "      <td>77.284386</td>\n",
       "      <td>Swasthya Vihar</td>\n",
       "      <td>Delhi East</td>\n",
       "      <td>Delhi</td>\n",
       "      <td>9000</td>\n",
       "      <td>Dream Homez</td>\n",
       "      <td>0.577495</td>\n",
       "      <td>21.741188</td>\n",
       "      <td>11.119239</td>\n",
       "      <td>6.227231</td>\n",
       "    </tr>\n",
       "    <tr>\n",
       "      <th>1</th>\n",
       "      <td>1</td>\n",
       "      <td>1050</td>\n",
       "      <td>Apartment</td>\n",
       "      <td>2</td>\n",
       "      <td>28.594969</td>\n",
       "      <td>77.298668</td>\n",
       "      <td>mayur vihar phase 1</td>\n",
       "      <td>Delhi East</td>\n",
       "      <td>Delhi</td>\n",
       "      <td>20000</td>\n",
       "      <td>Rupak Properties Stock</td>\n",
       "      <td>0.417142</td>\n",
       "      <td>21.401856</td>\n",
       "      <td>9.419061</td>\n",
       "      <td>9.217502</td>\n",
       "    </tr>\n",
       "    <tr>\n",
       "      <th>2</th>\n",
       "      <td>2</td>\n",
       "      <td>2250</td>\n",
       "      <td>Independent Floor</td>\n",
       "      <td>2</td>\n",
       "      <td>28.641806</td>\n",
       "      <td>77.293922</td>\n",
       "      <td>Swasthya Vihar</td>\n",
       "      <td>Delhi East</td>\n",
       "      <td>Delhi</td>\n",
       "      <td>28000</td>\n",
       "      <td>Aashiyana Real Estate</td>\n",
       "      <td>0.125136</td>\n",
       "      <td>22.620365</td>\n",
       "      <td>11.829486</td>\n",
       "      <td>7.159184</td>\n",
       "    </tr>\n",
       "    <tr>\n",
       "      <th>3</th>\n",
       "      <td>3</td>\n",
       "      <td>1350</td>\n",
       "      <td>Independent Floor</td>\n",
       "      <td>2</td>\n",
       "      <td>28.644363</td>\n",
       "      <td>77.293228</td>\n",
       "      <td>Krishna Nagar</td>\n",
       "      <td>Delhi East</td>\n",
       "      <td>Delhi</td>\n",
       "      <td>28000</td>\n",
       "      <td>Shivam Real Estate</td>\n",
       "      <td>0.371709</td>\n",
       "      <td>22.681201</td>\n",
       "      <td>11.982708</td>\n",
       "      <td>7.097348</td>\n",
       "    </tr>\n",
       "    <tr>\n",
       "      <th>4</th>\n",
       "      <td>4</td>\n",
       "      <td>450</td>\n",
       "      <td>Apartment</td>\n",
       "      <td>2</td>\n",
       "      <td>28.594736</td>\n",
       "      <td>77.311150</td>\n",
       "      <td>New Ashok Nagar</td>\n",
       "      <td>Delhi East</td>\n",
       "      <td>Delhi</td>\n",
       "      <td>12500</td>\n",
       "      <td>Shree Properties</td>\n",
       "      <td>1.087760</td>\n",
       "      <td>22.592810</td>\n",
       "      <td>10.571573</td>\n",
       "      <td>10.263271</td>\n",
       "    </tr>\n",
       "  </tbody>\n",
       "</table>\n",
       "</div>"
      ],
      "text/plain": [
       "   Unnamed: 0  size_sq_ft       propertyType  bedrooms   latitude  longitude  \\\n",
       "0           0         400  Independent Floor         1  28.641010  77.284386   \n",
       "1           1        1050          Apartment         2  28.594969  77.298668   \n",
       "2           2        2250  Independent Floor         2  28.641806  77.293922   \n",
       "3           3        1350  Independent Floor         2  28.644363  77.293228   \n",
       "4           4         450          Apartment         2  28.594736  77.311150   \n",
       "\n",
       "          localityName  suburbName cityName  price             companyName  \\\n",
       "0       Swasthya Vihar  Delhi East    Delhi   9000             Dream Homez   \n",
       "1  mayur vihar phase 1  Delhi East    Delhi  20000  Rupak Properties Stock   \n",
       "2       Swasthya Vihar  Delhi East    Delhi  28000   Aashiyana Real Estate   \n",
       "3        Krishna Nagar  Delhi East    Delhi  28000      Shivam Real Estate   \n",
       "4      New Ashok Nagar  Delhi East    Delhi  12500        Shree Properties   \n",
       "\n",
       "   closest_mtero_station_km  AP_dist_km  Aiims_dist_km  NDRLW_dist_km  \n",
       "0                  0.577495   21.741188      11.119239       6.227231  \n",
       "1                  0.417142   21.401856       9.419061       9.217502  \n",
       "2                  0.125136   22.620365      11.829486       7.159184  \n",
       "3                  0.371709   22.681201      11.982708       7.097348  \n",
       "4                  1.087760   22.592810      10.571573      10.263271  "
      ]
     },
     "execution_count": 3,
     "metadata": {},
     "output_type": "execute_result"
    }
   ],
   "source": [
    "df = pd.read_csv('../data/raw/data.csv')\n",
    "df.head()"
   ]
  },
  {
   "cell_type": "code",
   "execution_count": 4,
   "id": "ccb93cbf",
   "metadata": {},
   "outputs": [
    {
     "name": "stdout",
     "output_type": "stream",
     "text": [
      "<class 'pandas.core.frame.DataFrame'>\n",
      "RangeIndex: 17890 entries, 0 to 17889\n",
      "Data columns (total 15 columns):\n",
      " #   Column                    Non-Null Count  Dtype  \n",
      "---  ------                    --------------  -----  \n",
      " 0   Unnamed: 0                17890 non-null  int64  \n",
      " 1   size_sq_ft                17890 non-null  int64  \n",
      " 2   propertyType              17890 non-null  object \n",
      " 3   bedrooms                  17890 non-null  int64  \n",
      " 4   latitude                  17890 non-null  float64\n",
      " 5   longitude                 17890 non-null  float64\n",
      " 6   localityName              17890 non-null  object \n",
      " 7   suburbName                17890 non-null  object \n",
      " 8   cityName                  17890 non-null  object \n",
      " 9   price                     17890 non-null  int64  \n",
      " 10  companyName               17890 non-null  object \n",
      " 11  closest_mtero_station_km  17890 non-null  float64\n",
      " 12  AP_dist_km                17890 non-null  float64\n",
      " 13  Aiims_dist_km             17890 non-null  float64\n",
      " 14  NDRLW_dist_km             17890 non-null  float64\n",
      "dtypes: float64(6), int64(4), object(5)\n",
      "memory usage: 2.0+ MB\n"
     ]
    }
   ],
   "source": [
    "df.info()"
   ]
  },
  {
   "cell_type": "code",
   "execution_count": 5,
   "id": "17f45d01",
   "metadata": {},
   "outputs": [
    {
     "name": "stdout",
     "output_type": "stream",
     "text": [
      "✅ No missing values found!\n"
     ]
    }
   ],
   "source": [
    "count = df.isnull().sum()\n",
    "if count.sum() > 0:\n",
    "    print(count[count > 0])\n",
    "else:\n",
    "    print(\"✅ No missing values found!\")\n"
   ]
  },
  {
   "cell_type": "code",
   "execution_count": 6,
   "id": "c541c6d0",
   "metadata": {},
   "outputs": [
    {
     "name": "stdout",
     "output_type": "stream",
     "text": [
      "Summary statistics for numeric columns:\n"
     ]
    },
    {
     "data": {
      "text/html": [
       "<div>\n",
       "<style scoped>\n",
       "    .dataframe tbody tr th:only-of-type {\n",
       "        vertical-align: middle;\n",
       "    }\n",
       "\n",
       "    .dataframe tbody tr th {\n",
       "        vertical-align: top;\n",
       "    }\n",
       "\n",
       "    .dataframe thead th {\n",
       "        text-align: right;\n",
       "    }\n",
       "</style>\n",
       "<table border=\"1\" class=\"dataframe\">\n",
       "  <thead>\n",
       "    <tr style=\"text-align: right;\">\n",
       "      <th></th>\n",
       "      <th>Unnamed: 0</th>\n",
       "      <th>size_sq_ft</th>\n",
       "      <th>bedrooms</th>\n",
       "      <th>latitude</th>\n",
       "      <th>longitude</th>\n",
       "      <th>price</th>\n",
       "      <th>closest_mtero_station_km</th>\n",
       "      <th>AP_dist_km</th>\n",
       "      <th>Aiims_dist_km</th>\n",
       "      <th>NDRLW_dist_km</th>\n",
       "    </tr>\n",
       "  </thead>\n",
       "  <tbody>\n",
       "    <tr>\n",
       "      <th>count</th>\n",
       "      <td>17890.000000</td>\n",
       "      <td>17890.000000</td>\n",
       "      <td>17890.000000</td>\n",
       "      <td>17890.000000</td>\n",
       "      <td>17890.000000</td>\n",
       "      <td>1.789000e+04</td>\n",
       "      <td>17890.000000</td>\n",
       "      <td>17890.000000</td>\n",
       "      <td>17890.000000</td>\n",
       "      <td>17890.000000</td>\n",
       "    </tr>\n",
       "    <tr>\n",
       "      <th>mean</th>\n",
       "      <td>8944.500000</td>\n",
       "      <td>1176.342091</td>\n",
       "      <td>2.168865</td>\n",
       "      <td>28.609382</td>\n",
       "      <td>77.168368</td>\n",
       "      <td>3.345196e+04</td>\n",
       "      <td>0.931495</td>\n",
       "      <td>13.727784</td>\n",
       "      <td>11.238134</td>\n",
       "      <td>11.421994</td>\n",
       "    </tr>\n",
       "    <tr>\n",
       "      <th>std</th>\n",
       "      <td>5164.542493</td>\n",
       "      <td>873.751044</td>\n",
       "      <td>0.971414</td>\n",
       "      <td>0.099547</td>\n",
       "      <td>0.097611</td>\n",
       "      <td>8.802054e+04</td>\n",
       "      <td>8.287856</td>\n",
       "      <td>11.357063</td>\n",
       "      <td>11.167202</td>\n",
       "      <td>11.063323</td>\n",
       "    </tr>\n",
       "    <tr>\n",
       "      <th>min</th>\n",
       "      <td>0.000000</td>\n",
       "      <td>100.000000</td>\n",
       "      <td>1.000000</td>\n",
       "      <td>19.185120</td>\n",
       "      <td>73.213829</td>\n",
       "      <td>1.200000e+03</td>\n",
       "      <td>0.000692</td>\n",
       "      <td>1.784779</td>\n",
       "      <td>0.634508</td>\n",
       "      <td>0.722023</td>\n",
       "    </tr>\n",
       "    <tr>\n",
       "      <th>25%</th>\n",
       "      <td>4472.250000</td>\n",
       "      <td>620.000000</td>\n",
       "      <td>1.000000</td>\n",
       "      <td>28.562540</td>\n",
       "      <td>77.103718</td>\n",
       "      <td>1.350000e+04</td>\n",
       "      <td>0.457782</td>\n",
       "      <td>11.018715</td>\n",
       "      <td>7.769267</td>\n",
       "      <td>7.986813</td>\n",
       "    </tr>\n",
       "    <tr>\n",
       "      <th>50%</th>\n",
       "      <td>8944.500000</td>\n",
       "      <td>900.000000</td>\n",
       "      <td>2.000000</td>\n",
       "      <td>28.611803</td>\n",
       "      <td>77.168755</td>\n",
       "      <td>2.200000e+04</td>\n",
       "      <td>0.698560</td>\n",
       "      <td>13.184035</td>\n",
       "      <td>10.515524</td>\n",
       "      <td>11.015571</td>\n",
       "    </tr>\n",
       "    <tr>\n",
       "      <th>75%</th>\n",
       "      <td>13416.750000</td>\n",
       "      <td>1600.000000</td>\n",
       "      <td>3.000000</td>\n",
       "      <td>28.651593</td>\n",
       "      <td>77.224998</td>\n",
       "      <td>3.500000e+04</td>\n",
       "      <td>1.087740</td>\n",
       "      <td>17.163502</td>\n",
       "      <td>15.514042</td>\n",
       "      <td>15.192483</td>\n",
       "    </tr>\n",
       "    <tr>\n",
       "      <th>max</th>\n",
       "      <td>17889.000000</td>\n",
       "      <td>16521.000000</td>\n",
       "      <td>15.000000</td>\n",
       "      <td>28.872597</td>\n",
       "      <td>80.358467</td>\n",
       "      <td>5.885646e+06</td>\n",
       "      <td>1096.479453</td>\n",
       "      <td>1109.894053</td>\n",
       "      <td>1115.621439</td>\n",
       "      <td>1123.778457</td>\n",
       "    </tr>\n",
       "  </tbody>\n",
       "</table>\n",
       "</div>"
      ],
      "text/plain": [
       "         Unnamed: 0    size_sq_ft      bedrooms      latitude     longitude  \\\n",
       "count  17890.000000  17890.000000  17890.000000  17890.000000  17890.000000   \n",
       "mean    8944.500000   1176.342091      2.168865     28.609382     77.168368   \n",
       "std     5164.542493    873.751044      0.971414      0.099547      0.097611   \n",
       "min        0.000000    100.000000      1.000000     19.185120     73.213829   \n",
       "25%     4472.250000    620.000000      1.000000     28.562540     77.103718   \n",
       "50%     8944.500000    900.000000      2.000000     28.611803     77.168755   \n",
       "75%    13416.750000   1600.000000      3.000000     28.651593     77.224998   \n",
       "max    17889.000000  16521.000000     15.000000     28.872597     80.358467   \n",
       "\n",
       "              price  closest_mtero_station_km    AP_dist_km  Aiims_dist_km  \\\n",
       "count  1.789000e+04              17890.000000  17890.000000   17890.000000   \n",
       "mean   3.345196e+04                  0.931495     13.727784      11.238134   \n",
       "std    8.802054e+04                  8.287856     11.357063      11.167202   \n",
       "min    1.200000e+03                  0.000692      1.784779       0.634508   \n",
       "25%    1.350000e+04                  0.457782     11.018715       7.769267   \n",
       "50%    2.200000e+04                  0.698560     13.184035      10.515524   \n",
       "75%    3.500000e+04                  1.087740     17.163502      15.514042   \n",
       "max    5.885646e+06               1096.479453   1109.894053    1115.621439   \n",
       "\n",
       "       NDRLW_dist_km  \n",
       "count   17890.000000  \n",
       "mean       11.421994  \n",
       "std        11.063323  \n",
       "min         0.722023  \n",
       "25%         7.986813  \n",
       "50%        11.015571  \n",
       "75%        15.192483  \n",
       "max      1123.778457  "
      ]
     },
     "execution_count": 6,
     "metadata": {},
     "output_type": "execute_result"
    }
   ],
   "source": [
    "print(\"Summary statistics for numeric columns:\")\n",
    "df.describe()"
   ]
  },
  {
   "cell_type": "code",
   "execution_count": 7,
   "id": "ee566e45",
   "metadata": {},
   "outputs": [
    {
     "name": "stdout",
     "output_type": "stream",
     "text": [
      "🧹 Checking for duplicate rows...\n",
      "Found 0 duplicate rows.\n",
      "✅ No duplicate rows found.\n"
     ]
    }
   ],
   "source": [
    "print(\"🧹 Checking for duplicate rows...\")\n",
    "\n",
    "duplicates = df.duplicated().sum()\n",
    "print(f\"Found {duplicates} duplicate rows.\")\n",
    "\n",
    "if duplicates > 0:\n",
    "    print(f\"⚠️ Dropping {duplicates} duplicate rows...\")\n",
    "    df = df.drop_duplicates()\n",
    "    print(f\"✅ New shape after dropping duplicates: {df.shape}\")\n",
    "else:\n",
    "    print(\"✅ No duplicate rows found.\")"
   ]
  },
  {
   "cell_type": "markdown",
   "id": "690f063b",
   "metadata": {},
   "source": [
    "### Dropping Columns"
   ]
  },
  {
   "cell_type": "code",
   "execution_count": 8,
   "id": "61a64d9c",
   "metadata": {},
   "outputs": [
    {
     "data": {
      "text/plain": [
       "Delhi    17890\n",
       "Name: cityName, dtype: int64"
      ]
     },
     "execution_count": 8,
     "metadata": {},
     "output_type": "execute_result"
    }
   ],
   "source": [
    "df['cityName'].value_counts()"
   ]
  },
  {
   "cell_type": "code",
   "execution_count": 9,
   "id": "26131687",
   "metadata": {},
   "outputs": [
    {
     "data": {
      "text/plain": [
       "Delhi South         3749\n",
       "Delhi Central       2732\n",
       "Other               2706\n",
       "Dwarka              2435\n",
       "West Delhi          2222\n",
       "Delhi East          1933\n",
       "North Delhi         1252\n",
       "Delhi West           314\n",
       "Rohini               274\n",
       "Delhi North          176\n",
       "South West Delhi      86\n",
       "North West Delhi      11\n",
       "Name: suburbName, dtype: int64"
      ]
     },
     "execution_count": 9,
     "metadata": {},
     "output_type": "execute_result"
    }
   ],
   "source": [
    "df['suburbName'].value_counts()"
   ]
  },
  {
   "cell_type": "code",
   "execution_count": 10,
   "id": "761bc239",
   "metadata": {},
   "outputs": [
    {
     "name": "stdout",
     "output_type": "stream",
     "text": [
      "\n",
      "🗑️ Dropping unnecessary columns...\n",
      "✅ Dropped 10 columns.\n",
      "Remaining columns: ['size_sq_ft', 'propertyType', 'bedrooms', 'localityName', 'price']\n"
     ]
    }
   ],
   "source": [
    "print(\"\\n🗑️ Dropping unnecessary columns...\")\n",
    "\n",
    "# Based on original notebook: these columns are not needed for modeling\n",
    "columns_to_drop = [\n",
    "    'Unnamed: 0',\n",
    "    'latitude',\n",
    "    'longitude',\n",
    "    'cityName',\n",
    "    'companyName',\n",
    "    'closest_mtero_station_km',\n",
    "    'AP_dist_km',\n",
    "    'Aiims_dist_km',\n",
    "    'NDRLW_dist_km',\n",
    "    'suburbName'\n",
    "]\n",
    "\n",
    "# Only drop columns that exist in the dataframe\n",
    "columns_to_drop = [col for col in columns_to_drop if col in df.columns]\n",
    "\n",
    "df = df.drop(columns=columns_to_drop)\n",
    "print(f\"✅ Dropped {len(columns_to_drop)} columns.\")\n",
    "print(f\"Remaining columns: {list(df.columns)}\")"
   ]
  },
  {
   "cell_type": "code",
   "execution_count": 11,
   "id": "3910809d",
   "metadata": {},
   "outputs": [
    {
     "data": {
      "text/html": [
       "<div>\n",
       "<style scoped>\n",
       "    .dataframe tbody tr th:only-of-type {\n",
       "        vertical-align: middle;\n",
       "    }\n",
       "\n",
       "    .dataframe tbody tr th {\n",
       "        vertical-align: top;\n",
       "    }\n",
       "\n",
       "    .dataframe thead th {\n",
       "        text-align: right;\n",
       "    }\n",
       "</style>\n",
       "<table border=\"1\" class=\"dataframe\">\n",
       "  <thead>\n",
       "    <tr style=\"text-align: right;\">\n",
       "      <th></th>\n",
       "      <th>size_sq_ft</th>\n",
       "      <th>propertyType</th>\n",
       "      <th>bedrooms</th>\n",
       "      <th>localityName</th>\n",
       "      <th>price</th>\n",
       "    </tr>\n",
       "  </thead>\n",
       "  <tbody>\n",
       "    <tr>\n",
       "      <th>0</th>\n",
       "      <td>400</td>\n",
       "      <td>Independent Floor</td>\n",
       "      <td>1</td>\n",
       "      <td>Swasthya Vihar</td>\n",
       "      <td>9000</td>\n",
       "    </tr>\n",
       "    <tr>\n",
       "      <th>1</th>\n",
       "      <td>1050</td>\n",
       "      <td>Apartment</td>\n",
       "      <td>2</td>\n",
       "      <td>mayur vihar phase 1</td>\n",
       "      <td>20000</td>\n",
       "    </tr>\n",
       "    <tr>\n",
       "      <th>2</th>\n",
       "      <td>2250</td>\n",
       "      <td>Independent Floor</td>\n",
       "      <td>2</td>\n",
       "      <td>Swasthya Vihar</td>\n",
       "      <td>28000</td>\n",
       "    </tr>\n",
       "    <tr>\n",
       "      <th>3</th>\n",
       "      <td>1350</td>\n",
       "      <td>Independent Floor</td>\n",
       "      <td>2</td>\n",
       "      <td>Krishna Nagar</td>\n",
       "      <td>28000</td>\n",
       "    </tr>\n",
       "    <tr>\n",
       "      <th>4</th>\n",
       "      <td>450</td>\n",
       "      <td>Apartment</td>\n",
       "      <td>2</td>\n",
       "      <td>New Ashok Nagar</td>\n",
       "      <td>12500</td>\n",
       "    </tr>\n",
       "  </tbody>\n",
       "</table>\n",
       "</div>"
      ],
      "text/plain": [
       "   size_sq_ft       propertyType  bedrooms         localityName  price\n",
       "0         400  Independent Floor         1       Swasthya Vihar   9000\n",
       "1        1050          Apartment         2  mayur vihar phase 1  20000\n",
       "2        2250  Independent Floor         2       Swasthya Vihar  28000\n",
       "3        1350  Independent Floor         2        Krishna Nagar  28000\n",
       "4         450          Apartment         2      New Ashok Nagar  12500"
      ]
     },
     "execution_count": 11,
     "metadata": {},
     "output_type": "execute_result"
    }
   ],
   "source": [
    "df.head()"
   ]
  },
  {
   "cell_type": "code",
   "execution_count": 12,
   "id": "bf140c7d",
   "metadata": {},
   "outputs": [
    {
     "data": {
      "text/plain": [
       "(17890, 5)"
      ]
     },
     "execution_count": 12,
     "metadata": {},
     "output_type": "execute_result"
    }
   ],
   "source": [
    "df.shape"
   ]
  },
  {
   "cell_type": "code",
   "execution_count": 13,
   "id": "dfe67e6f",
   "metadata": {},
   "outputs": [
    {
     "name": "stdout",
     "output_type": "stream",
     "text": [
      "✅ Data preprocessing complete!\n"
     ]
    }
   ],
   "source": [
    "df.to_csv(\"../data/interim/cleaned_house_data_v1.csv\", index=False)\n",
    "print(\"✅ Data preprocessing complete!\")"
   ]
  }
 ],
 "metadata": {
  "kernelspec": {
   "display_name": "delhi-house-rent-prediction",
   "language": "python",
   "name": "delhi-house-rent-prediction"
  },
  "language_info": {
   "codemirror_mode": {
    "name": "ipython",
    "version": 3
   },
   "file_extension": ".py",
   "mimetype": "text/x-python",
   "name": "python",
   "nbconvert_exporter": "python",
   "pygments_lexer": "ipython3",
   "version": "3.11.11"
  }
 },
 "nbformat": 4,
 "nbformat_minor": 5
}
