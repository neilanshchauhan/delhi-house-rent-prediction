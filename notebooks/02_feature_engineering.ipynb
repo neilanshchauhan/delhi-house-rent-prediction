{
 "cells": [
  {
   "cell_type": "code",
   "execution_count": 58,
   "id": "de4a21cc",
   "metadata": {},
   "outputs": [],
   "source": [
    "import pandas as pd\n",
    "import numpy as np\n",
    "import seaborn as sns\n",
    "import matplotlib.pyplot as plt"
   ]
  },
  {
   "cell_type": "code",
   "execution_count": 41,
   "id": "9b16e6ee",
   "metadata": {},
   "outputs": [
    {
     "name": "stdout",
     "output_type": "stream",
     "text": [
      "Dataset shape: (17890, 5)\n"
     ]
    },
    {
     "data": {
      "text/html": [
       "<div>\n",
       "<style scoped>\n",
       "    .dataframe tbody tr th:only-of-type {\n",
       "        vertical-align: middle;\n",
       "    }\n",
       "\n",
       "    .dataframe tbody tr th {\n",
       "        vertical-align: top;\n",
       "    }\n",
       "\n",
       "    .dataframe thead th {\n",
       "        text-align: right;\n",
       "    }\n",
       "</style>\n",
       "<table border=\"1\" class=\"dataframe\">\n",
       "  <thead>\n",
       "    <tr style=\"text-align: right;\">\n",
       "      <th></th>\n",
       "      <th>size_sq_ft</th>\n",
       "      <th>propertyType</th>\n",
       "      <th>bedrooms</th>\n",
       "      <th>localityName</th>\n",
       "      <th>price</th>\n",
       "    </tr>\n",
       "  </thead>\n",
       "  <tbody>\n",
       "    <tr>\n",
       "      <th>0</th>\n",
       "      <td>400</td>\n",
       "      <td>Independent Floor</td>\n",
       "      <td>1</td>\n",
       "      <td>Swasthya Vihar</td>\n",
       "      <td>9000</td>\n",
       "    </tr>\n",
       "    <tr>\n",
       "      <th>1</th>\n",
       "      <td>1050</td>\n",
       "      <td>Apartment</td>\n",
       "      <td>2</td>\n",
       "      <td>mayur vihar phase 1</td>\n",
       "      <td>20000</td>\n",
       "    </tr>\n",
       "    <tr>\n",
       "      <th>2</th>\n",
       "      <td>2250</td>\n",
       "      <td>Independent Floor</td>\n",
       "      <td>2</td>\n",
       "      <td>Swasthya Vihar</td>\n",
       "      <td>28000</td>\n",
       "    </tr>\n",
       "    <tr>\n",
       "      <th>3</th>\n",
       "      <td>1350</td>\n",
       "      <td>Independent Floor</td>\n",
       "      <td>2</td>\n",
       "      <td>Krishna Nagar</td>\n",
       "      <td>28000</td>\n",
       "    </tr>\n",
       "    <tr>\n",
       "      <th>4</th>\n",
       "      <td>450</td>\n",
       "      <td>Apartment</td>\n",
       "      <td>2</td>\n",
       "      <td>New Ashok Nagar</td>\n",
       "      <td>12500</td>\n",
       "    </tr>\n",
       "  </tbody>\n",
       "</table>\n",
       "</div>"
      ],
      "text/plain": [
       "   size_sq_ft       propertyType  bedrooms         localityName  price\n",
       "0         400  Independent Floor         1       Swasthya Vihar   9000\n",
       "1        1050          Apartment         2  mayur vihar phase 1  20000\n",
       "2        2250  Independent Floor         2       Swasthya Vihar  28000\n",
       "3        1350  Independent Floor         2        Krishna Nagar  28000\n",
       "4         450          Apartment         2      New Ashok Nagar  12500"
      ]
     },
     "execution_count": 41,
     "metadata": {},
     "output_type": "execute_result"
    }
   ],
   "source": [
    "# Load the cleaned dataset\n",
    "df = pd.read_csv(\"../data/interim/cleaned_house_data_v1.csv\")\n",
    "print(f\"Dataset shape: {df.shape}\")\n",
    "df.head()"
   ]
  },
  {
   "cell_type": "markdown",
   "id": "29761180",
   "metadata": {},
   "source": [
    "### Bedrooms analysis and cleaning"
   ]
  },
  {
   "cell_type": "code",
   "execution_count": 42,
   "id": "7c25c231",
   "metadata": {},
   "outputs": [
    {
     "name": "stdout",
     "output_type": "stream",
     "text": [
      "\n",
      "--- Bedrooms Value Counts ---\n",
      "2     5902\n",
      "3     5532\n",
      "1     5214\n",
      "4     1127\n",
      "5       79\n",
      "6       17\n",
      "10      10\n",
      "7        3\n",
      "8        2\n",
      "9        2\n",
      "15       1\n",
      "12       1\n",
      "Name: bedrooms, dtype: int64\n"
     ]
    }
   ],
   "source": [
    "print(\"\\n--- Bedrooms Value Counts ---\")\n",
    "print(df['bedrooms'].value_counts())"
   ]
  },
  {
   "cell_type": "code",
   "execution_count": 43,
   "id": "24fbd906",
   "metadata": {},
   "outputs": [
    {
     "name": "stdout",
     "output_type": "stream",
     "text": [
      "\n",
      "--- Listings with Bedrooms > 7 ---\n",
      "       size_sq_ft       propertyType  bedrooms        localityName    price\n",
      "3352         4500  Independent House        10  New Friends Colony   400000\n",
      "3525         4050  Independent House        10         Vasant Kunj   330000\n",
      "4340         4500  Independent House        10  New Friends Colony   350000\n",
      "4393         9000  Independent House        10     East of Kailash   350000\n",
      "4394         4500  Independent House        10          Green Park   400000\n",
      "4789         9000              Villa        10       Maharani Bagh   500000\n",
      "9143        12000          Apartment        10           Pitampura   450000\n",
      "13867       15515              Villa        15          India Gate  4011010\n",
      "13868       16521  Independent House        10          Tilak Marg  3746419\n",
      "13972       15562  Independent House        12      Aurungzeb Road  5885646\n",
      "14000       11010              Villa         8          Tilak Marg  4010101\n",
      "14620       10000  Independent Floor        10     Sector-8 Dwarka   180000\n",
      "14650       10800  Independent House         9   Chittaranjan Park   500000\n",
      "14915       10000  Independent House        10     Sector-8 Dwarka   150000\n",
      "16512        3000  Independent Floor         8  New Rajendra Nagar    12000\n",
      "17087        7803  Independent House         9        Sundar Nagar  1400000\n"
     ]
    }
   ],
   "source": [
    "# Check for unusually high bedroom counts\n",
    "print(\"\\n--- Listings with Bedrooms > 7 ---\")\n",
    "print(df[df['bedrooms'] > 7])"
   ]
  },
  {
   "cell_type": "code",
   "execution_count": 44,
   "id": "01f25b6a",
   "metadata": {},
   "outputs": [
    {
     "name": "stdout",
     "output_type": "stream",
     "text": [
      "\n",
      "Bedroom Upper Limit: 8.0\n",
      "Bedroom Lower Limit: 1.0\n"
     ]
    }
   ],
   "source": [
    "# Outlier detection for bedrooms\n",
    "upper_limit = df['bedrooms'].quantile(0.9992)\n",
    "lower_limit = df['bedrooms'].quantile(0.0008)\n",
    "print(f\"\\nBedroom Upper Limit: {upper_limit}\")\n",
    "print(f\"Bedroom Lower Limit: {lower_limit}\")"
   ]
  },
  {
   "cell_type": "code",
   "execution_count": 45,
   "id": "746b7568",
   "metadata": {},
   "outputs": [
    {
     "name": "stdout",
     "output_type": "stream",
     "text": [
      "After bedroom filtering: (12662, 5)\n"
     ]
    }
   ],
   "source": [
    "# Keep realistic bedroom counts (1 < bedrooms < 8)\n",
    "df = df[(df['bedrooms'] > 1) & (df['bedrooms'] < 9)]\n",
    "print(\"After bedroom filtering:\", df.shape)"
   ]
  },
  {
   "cell_type": "code",
   "execution_count": 46,
   "id": "6e41ee9a",
   "metadata": {},
   "outputs": [
    {
     "data": {
      "text/plain": [
       "2    5902\n",
       "3    5532\n",
       "4    1127\n",
       "5      79\n",
       "6      17\n",
       "7       3\n",
       "8       2\n",
       "Name: bedrooms, dtype: int64"
      ]
     },
     "execution_count": 46,
     "metadata": {},
     "output_type": "execute_result"
    }
   ],
   "source": [
    "df['bedrooms'].value_counts()"
   ]
  },
  {
   "cell_type": "markdown",
   "id": "a594092c",
   "metadata": {},
   "source": [
    "### Locality cleaning\n"
   ]
  },
  {
   "cell_type": "code",
   "execution_count": 47,
   "id": "49e90c88",
   "metadata": {},
   "outputs": [
    {
     "name": "stdout",
     "output_type": "stream",
     "text": [
      "\n",
      "--- Locality Name Value Counts (Before Cleaning) ---\n",
      "Paschim Vihar                821\n",
      "Patel Nagar                  647\n",
      "Chattarpur                   545\n",
      "Pitampura                    484\n",
      "Malviya Nagar                282\n",
      "                            ... \n",
      "Lalita Park                    1\n",
      "Pushpanjali Enclave            1\n",
      "Block PP Poorvi Pitampura      1\n",
      "Inderpuri                      1\n",
      "Jhandewalan                    1\n",
      "Name: localityName, Length: 678, dtype: int64\n"
     ]
    }
   ],
   "source": [
    "print(\"\\n--- Locality Name Value Counts (Before Cleaning) ---\")\n",
    "print(df['localityName'].value_counts())"
   ]
  },
  {
   "cell_type": "code",
   "execution_count": 48,
   "id": "4e577410",
   "metadata": {},
   "outputs": [],
   "source": [
    "# Strip whitespace\n",
    "df['localityName'] = df['localityName'].apply(lambda x: x.strip() if isinstance(x, str) else x)"
   ]
  },
  {
   "cell_type": "code",
   "execution_count": 49,
   "id": "98369569",
   "metadata": {},
   "outputs": [],
   "source": [
    "# Replace rare localities with 'other'\n",
    "location_count = df['localityName'].value_counts()\n",
    "location_count_less_than_10 = location_count[location_count <= 10]\n",
    "df['localityName'] = df['localityName'].apply(lambda x: 'other' if x in location_count_less_than_10 else x)"
   ]
  },
  {
   "cell_type": "code",
   "execution_count": 50,
   "id": "4f62aa69",
   "metadata": {},
   "outputs": [
    {
     "data": {
      "text/plain": [
       "other                   1369\n",
       "Paschim Vihar            821\n",
       "Patel Nagar              647\n",
       "Chattarpur               545\n",
       "Pitampura                484\n",
       "                        ... \n",
       "Dwarka 11 Sector          12\n",
       "Anand Niketan             12\n",
       "Jamia Nagar               12\n",
       "Mayur Vihar Phase 2       11\n",
       "Khanpur Krishna Park      11\n",
       "Name: localityName, Length: 153, dtype: int64"
      ]
     },
     "execution_count": 50,
     "metadata": {},
     "output_type": "execute_result"
    }
   ],
   "source": [
    "df['localityName'].value_counts()\n",
    "# value counts reduced to 153 from 781"
   ]
  },
  {
   "cell_type": "markdown",
   "id": "3bc95f35",
   "metadata": {},
   "source": [
    "### Outlier detection in price\n"
   ]
  },
  {
   "cell_type": "code",
   "execution_count": 51,
   "id": "f7afc5c4",
   "metadata": {},
   "outputs": [
    {
     "name": "stdout",
     "output_type": "stream",
     "text": [
      "\n",
      "--- Price Outliers (Below 1300) ---\n",
      "Empty DataFrame\n",
      "Columns: [size_sq_ft, propertyType, bedrooms, localityName, price]\n",
      "Index: []\n"
     ]
    }
   ],
   "source": [
    "print(\"\\n--- Price Outliers (Below 1300) ---\")\n",
    "print(df[df['price'] < 1300])"
   ]
  },
  {
   "cell_type": "markdown",
   "id": "6518442b",
   "metadata": {},
   "source": [
    "### Feature creation - Price per sqft"
   ]
  },
  {
   "cell_type": "code",
   "execution_count": 52,
   "id": "a9463bf0",
   "metadata": {},
   "outputs": [
    {
     "name": "stdout",
     "output_type": "stream",
     "text": [
      "\n",
      "--- Creating price_per_sqft feature ---\n"
     ]
    },
    {
     "data": {
      "text/html": [
       "<div>\n",
       "<style scoped>\n",
       "    .dataframe tbody tr th:only-of-type {\n",
       "        vertical-align: middle;\n",
       "    }\n",
       "\n",
       "    .dataframe tbody tr th {\n",
       "        vertical-align: top;\n",
       "    }\n",
       "\n",
       "    .dataframe thead th {\n",
       "        text-align: right;\n",
       "    }\n",
       "</style>\n",
       "<table border=\"1\" class=\"dataframe\">\n",
       "  <thead>\n",
       "    <tr style=\"text-align: right;\">\n",
       "      <th></th>\n",
       "      <th>size_sq_ft</th>\n",
       "      <th>propertyType</th>\n",
       "      <th>bedrooms</th>\n",
       "      <th>localityName</th>\n",
       "      <th>price</th>\n",
       "      <th>price_per_sqft</th>\n",
       "    </tr>\n",
       "  </thead>\n",
       "  <tbody>\n",
       "    <tr>\n",
       "      <th>1</th>\n",
       "      <td>1050</td>\n",
       "      <td>Apartment</td>\n",
       "      <td>2</td>\n",
       "      <td>mayur vihar phase 1</td>\n",
       "      <td>20000</td>\n",
       "      <td>19.047619</td>\n",
       "    </tr>\n",
       "    <tr>\n",
       "      <th>2</th>\n",
       "      <td>2250</td>\n",
       "      <td>Independent Floor</td>\n",
       "      <td>2</td>\n",
       "      <td>Swasthya Vihar</td>\n",
       "      <td>28000</td>\n",
       "      <td>12.444444</td>\n",
       "    </tr>\n",
       "    <tr>\n",
       "      <th>3</th>\n",
       "      <td>1350</td>\n",
       "      <td>Independent Floor</td>\n",
       "      <td>2</td>\n",
       "      <td>Krishna Nagar</td>\n",
       "      <td>28000</td>\n",
       "      <td>20.740741</td>\n",
       "    </tr>\n",
       "    <tr>\n",
       "      <th>4</th>\n",
       "      <td>450</td>\n",
       "      <td>Apartment</td>\n",
       "      <td>2</td>\n",
       "      <td>New Ashok Nagar</td>\n",
       "      <td>12500</td>\n",
       "      <td>27.777778</td>\n",
       "    </tr>\n",
       "    <tr>\n",
       "      <th>5</th>\n",
       "      <td>600</td>\n",
       "      <td>Independent House</td>\n",
       "      <td>2</td>\n",
       "      <td>New Ashok Nagar</td>\n",
       "      <td>10000</td>\n",
       "      <td>16.666667</td>\n",
       "    </tr>\n",
       "  </tbody>\n",
       "</table>\n",
       "</div>"
      ],
      "text/plain": [
       "   size_sq_ft       propertyType  bedrooms         localityName  price  \\\n",
       "1        1050          Apartment         2  mayur vihar phase 1  20000   \n",
       "2        2250  Independent Floor         2       Swasthya Vihar  28000   \n",
       "3        1350  Independent Floor         2        Krishna Nagar  28000   \n",
       "4         450          Apartment         2      New Ashok Nagar  12500   \n",
       "5         600  Independent House         2      New Ashok Nagar  10000   \n",
       "\n",
       "   price_per_sqft  \n",
       "1       19.047619  \n",
       "2       12.444444  \n",
       "3       20.740741  \n",
       "4       27.777778  \n",
       "5       16.666667  "
      ]
     },
     "execution_count": 52,
     "metadata": {},
     "output_type": "execute_result"
    }
   ],
   "source": [
    "print(\"\\n--- Creating price_per_sqft feature ---\")\n",
    "# Handle division safely\n",
    "df['price_per_sqft'] = np.where(df['size_sq_ft'] > 0,\n",
    "                                    df['price'] / df['size_sq_ft'],\n",
    "                                    np.nan)\n",
    "\n",
    "df.head()\n"
   ]
  },
  {
   "cell_type": "markdown",
   "id": "75692d52",
   "metadata": {},
   "source": [
    "### Locality Average Price"
   ]
  },
  {
   "cell_type": "code",
   "execution_count": 54,
   "id": "3bf1c576",
   "metadata": {},
   "outputs": [
    {
     "data": {
      "text/html": [
       "<div>\n",
       "<style scoped>\n",
       "    .dataframe tbody tr th:only-of-type {\n",
       "        vertical-align: middle;\n",
       "    }\n",
       "\n",
       "    .dataframe tbody tr th {\n",
       "        vertical-align: top;\n",
       "    }\n",
       "\n",
       "    .dataframe thead th {\n",
       "        text-align: right;\n",
       "    }\n",
       "</style>\n",
       "<table border=\"1\" class=\"dataframe\">\n",
       "  <thead>\n",
       "    <tr style=\"text-align: right;\">\n",
       "      <th></th>\n",
       "      <th>size_sq_ft</th>\n",
       "      <th>propertyType</th>\n",
       "      <th>bedrooms</th>\n",
       "      <th>localityName</th>\n",
       "      <th>price</th>\n",
       "      <th>price_per_sqft</th>\n",
       "      <th>location_avg_price</th>\n",
       "    </tr>\n",
       "  </thead>\n",
       "  <tbody>\n",
       "    <tr>\n",
       "      <th>1</th>\n",
       "      <td>1050</td>\n",
       "      <td>Apartment</td>\n",
       "      <td>2</td>\n",
       "      <td>mayur vihar phase 1</td>\n",
       "      <td>20000</td>\n",
       "      <td>19.047619</td>\n",
       "      <td>19561.660079</td>\n",
       "    </tr>\n",
       "    <tr>\n",
       "      <th>2</th>\n",
       "      <td>2250</td>\n",
       "      <td>Independent Floor</td>\n",
       "      <td>2</td>\n",
       "      <td>Swasthya Vihar</td>\n",
       "      <td>28000</td>\n",
       "      <td>12.444444</td>\n",
       "      <td>32710.714286</td>\n",
       "    </tr>\n",
       "    <tr>\n",
       "      <th>3</th>\n",
       "      <td>1350</td>\n",
       "      <td>Independent Floor</td>\n",
       "      <td>2</td>\n",
       "      <td>Krishna Nagar</td>\n",
       "      <td>28000</td>\n",
       "      <td>20.740741</td>\n",
       "      <td>25532.051282</td>\n",
       "    </tr>\n",
       "    <tr>\n",
       "      <th>4</th>\n",
       "      <td>450</td>\n",
       "      <td>Apartment</td>\n",
       "      <td>2</td>\n",
       "      <td>New Ashok Nagar</td>\n",
       "      <td>12500</td>\n",
       "      <td>27.777778</td>\n",
       "      <td>12721.019108</td>\n",
       "    </tr>\n",
       "    <tr>\n",
       "      <th>5</th>\n",
       "      <td>600</td>\n",
       "      <td>Independent House</td>\n",
       "      <td>2</td>\n",
       "      <td>New Ashok Nagar</td>\n",
       "      <td>10000</td>\n",
       "      <td>16.666667</td>\n",
       "      <td>12721.019108</td>\n",
       "    </tr>\n",
       "  </tbody>\n",
       "</table>\n",
       "</div>"
      ],
      "text/plain": [
       "   size_sq_ft       propertyType  bedrooms         localityName  price  \\\n",
       "1        1050          Apartment         2  mayur vihar phase 1  20000   \n",
       "2        2250  Independent Floor         2       Swasthya Vihar  28000   \n",
       "3        1350  Independent Floor         2        Krishna Nagar  28000   \n",
       "4         450          Apartment         2      New Ashok Nagar  12500   \n",
       "5         600  Independent House         2      New Ashok Nagar  10000   \n",
       "\n",
       "   price_per_sqft  location_avg_price  \n",
       "1       19.047619        19561.660079  \n",
       "2       12.444444        32710.714286  \n",
       "3       20.740741        25532.051282  \n",
       "4       27.777778        12721.019108  \n",
       "5       16.666667        12721.019108  "
      ]
     },
     "execution_count": 54,
     "metadata": {},
     "output_type": "execute_result"
    }
   ],
   "source": [
    "location_price = df.groupby('localityName')['price'].mean()\n",
    "df['location_avg_price'] = df['localityName'].map(location_price)\n",
    "\n",
    "df.head()"
   ]
  },
  {
   "cell_type": "code",
   "execution_count": 55,
   "id": "c56378ee",
   "metadata": {},
   "outputs": [
    {
     "name": "stdout",
     "output_type": "stream",
     "text": [
      "\n",
      "Final DataFrame shape: (12662, 7)\n",
      "\n",
      "Feature engineering completed successfully!\n"
     ]
    }
   ],
   "source": [
    "print(\"\\nFinal DataFrame shape:\", df.shape)\n",
    "print(\"\\nFeature engineering completed successfully!\")"
   ]
  },
  {
   "cell_type": "code",
   "execution_count": 56,
   "id": "82a6e9fb",
   "metadata": {},
   "outputs": [
    {
     "name": "stdout",
     "output_type": "stream",
     "text": [
      "✅ Feature Engineering complete!\n"
     ]
    }
   ],
   "source": [
    "df.to_csv(\"../data/processed/final_data.csv\", index=False)\n",
    "print(\"✅ Feature Engineering complete!\")"
   ]
  },
  {
   "cell_type": "code",
   "execution_count": 59,
   "id": "c3c40f72",
   "metadata": {},
   "outputs": [
    {
     "data": {
      "image/png": "[encoded data removed]",
      "text/plain": [
       "<Figure size 1800x500 with 3 Axes>"
      ]
     },
     "metadata": {},
     "output_type": "display_data"
    }
   ],
   "source": [
    "\n",
    "fig, axs = plt.subplots(1, 3, figsize=(18, 5))\n",
    "sns.histplot(df['size_sq_ft'], kde=True, ax=axs[0])\n",
    "axs[0].set_title('Size (Sq Ft)')\n",
    "\n",
    "sns.histplot(df['price_per_sqft'], kde=True, ax=axs[1])\n",
    "axs[1].set_title('Price per Sqft')\n",
    "\n",
    "sns.histplot(df['location_avg_price'], kde=True, ax=axs[2])\n",
    "axs[2].set_title('Location Average Price')\n",
    "\n",
    "plt.tight_layout()\n"
   ]
  },
  {
   "cell_type": "code",
   "execution_count": null,
   "id": "18f0e63a",
   "metadata": {},
   "outputs": [],
   "source": []
  }
 ],
 "metadata": {
  "kernelspec": {
   "display_name": "delhi-house-rent-prediction",
   "language": "python",
   "name": "delhi-house-rent-prediction"
  },
  "language_info": {
   "codemirror_mode": {
    "name": "ipython",
    "version": 3
   },
   "file_extension": ".py",
   "mimetype": "text/x-python",
   "name": "python",
   "nbconvert_exporter": "python",
   "pygments_lexer": "ipython3",
   "version": "3.11.11"
  }
 },
 "nbformat": 4,
 "nbformat_minor": 5
}
